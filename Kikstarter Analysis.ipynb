{
 "cells": [
  {
   "cell_type": "code",
   "execution_count": 1,
   "id": "3a728ccc-1ba7-4fa5-b6cd-0a61a03dae71",
   "metadata": {},
   "outputs": [
    {
     "name": "stdout",
     "output_type": "stream",
     "text": [
      "   project id                                  name  \\\n",
      "0       39409                 WHILE THE TREES SLEEP   \n",
      "1      126581  Educational Online Trading Card Game   \n",
      "\n",
      "                                                 url      category  \\\n",
      "0  http://www.kickstarter.com/projects/emiliesaba...  Film & Video   \n",
      "1  http://www.kickstarter.com/projects/972789543/...         Games   \n",
      "\n",
      "          subcategory       location      status     goal  pledged  \\\n",
      "0          Short Film   Columbia, MO  successful  10500.0  11545.0   \n",
      "1  Board & Card Games  Maplewood, NJ      failed   4000.0     20.0   \n",
      "\n",
      "   funded percentage  backers                      funded date  levels  \\\n",
      "0           1.099524       66  Fri, 19 Aug 2011 19:28:17 -0000       7   \n",
      "1           0.005000        2  Mon, 02 Aug 2010 03:59:00 -0000       5   \n",
      "\n",
      "                          reward levels  updates  comments  duration  \n",
      "0  $25,$50,$100,$250,$500,$1,000,$2,500       10         2     30.00  \n",
      "1                     $1,$5,$10,$25,$50        6         0     47.18  \n"
     ]
    }
   ],
   "source": [
    "#Part 1: Foundational Data Analysis\n",
    "\n",
    "import pandas as pd\n",
    "import numpy as np\n",
    "import matplotlib.pyplot as plt\n",
    "import matplotlib as mpl\n",
    "from statistics import mean, median, mode, stdev\n",
    "from scipy.stats import skew\n",
    "import seaborn as sns\n",
    "from numpy import percentile\n",
    "\n",
    "\n",
    "df = pd.read_csv(\"DSI_kickstarterscrape_dataset.csv\")  \n",
    "\n",
    "print(df.head(2) ) "
   ]
  },
  {
   "cell_type": "code",
   "execution_count": 2,
   "id": "4d88cc1e-6705-48b3-b76a-b519e0d24050",
   "metadata": {},
   "outputs": [
    {
     "data": {
      "text/plain": [
       "4980.749678963979"
      ]
     },
     "execution_count": 2,
     "metadata": {},
     "output_type": "execute_result"
    }
   ],
   "source": [
    "df[\"pledged\"].mean()"
   ]
  },
  {
   "cell_type": "code",
   "execution_count": 10,
   "id": "7c13a955-9a4d-4dc9-b999-d40bf58eaa2d",
   "metadata": {},
   "outputs": [
    {
     "data": {
      "text/html": [
       "<div>\n",
       "<style scoped>\n",
       "    .dataframe tbody tr th:only-of-type {\n",
       "        vertical-align: middle;\n",
       "    }\n",
       "\n",
       "    .dataframe tbody tr th {\n",
       "        vertical-align: top;\n",
       "    }\n",
       "\n",
       "    .dataframe thead th {\n",
       "        text-align: right;\n",
       "    }\n",
       "</style>\n",
       "<table border=\"1\" class=\"dataframe\">\n",
       "  <thead>\n",
       "    <tr style=\"text-align: right;\">\n",
       "      <th></th>\n",
       "      <th>project id</th>\n",
       "      <th>goal</th>\n",
       "      <th>pledged</th>\n",
       "      <th>funded percentage</th>\n",
       "      <th>backers</th>\n",
       "      <th>levels</th>\n",
       "      <th>updates</th>\n",
       "      <th>comments</th>\n",
       "      <th>duration</th>\n",
       "    </tr>\n",
       "  </thead>\n",
       "  <tbody>\n",
       "    <tr>\n",
       "      <th>count</th>\n",
       "      <td>4.595700e+04</td>\n",
       "      <td>4.595700e+04</td>\n",
       "      <td>4.594500e+04</td>\n",
       "      <td>45957.000000</td>\n",
       "      <td>45957.000000</td>\n",
       "      <td>45957.000000</td>\n",
       "      <td>45957.00000</td>\n",
       "      <td>45957.000000</td>\n",
       "      <td>45957.000000</td>\n",
       "    </tr>\n",
       "    <tr>\n",
       "      <th>mean</th>\n",
       "      <td>1.080800e+09</td>\n",
       "      <td>1.194271e+04</td>\n",
       "      <td>4.980750e+03</td>\n",
       "      <td>1.850129</td>\n",
       "      <td>69.973192</td>\n",
       "      <td>8.004939</td>\n",
       "      <td>4.08508</td>\n",
       "      <td>8.379529</td>\n",
       "      <td>39.995547</td>\n",
       "    </tr>\n",
       "    <tr>\n",
       "      <th>std</th>\n",
       "      <td>6.218057e+08</td>\n",
       "      <td>1.887583e+05</td>\n",
       "      <td>5.674162e+04</td>\n",
       "      <td>88.492706</td>\n",
       "      <td>688.628479</td>\n",
       "      <td>4.233907</td>\n",
       "      <td>6.43922</td>\n",
       "      <td>174.015737</td>\n",
       "      <td>17.414458</td>\n",
       "    </tr>\n",
       "    <tr>\n",
       "      <th>min</th>\n",
       "      <td>3.940900e+04</td>\n",
       "      <td>1.000000e-02</td>\n",
       "      <td>0.000000e+00</td>\n",
       "      <td>0.000000</td>\n",
       "      <td>0.000000</td>\n",
       "      <td>0.000000</td>\n",
       "      <td>0.00000</td>\n",
       "      <td>0.000000</td>\n",
       "      <td>1.000000</td>\n",
       "    </tr>\n",
       "    <tr>\n",
       "      <th>25%</th>\n",
       "      <td>5.438962e+08</td>\n",
       "      <td>1.800000e+03</td>\n",
       "      <td>1.960000e+02</td>\n",
       "      <td>0.044000</td>\n",
       "      <td>5.000000</td>\n",
       "      <td>5.000000</td>\n",
       "      <td>0.00000</td>\n",
       "      <td>0.000000</td>\n",
       "      <td>30.000000</td>\n",
       "    </tr>\n",
       "    <tr>\n",
       "      <th>50%</th>\n",
       "      <td>1.078345e+09</td>\n",
       "      <td>4.000000e+03</td>\n",
       "      <td>1.310000e+03</td>\n",
       "      <td>1.000000</td>\n",
       "      <td>23.000000</td>\n",
       "      <td>7.000000</td>\n",
       "      <td>2.00000</td>\n",
       "      <td>0.000000</td>\n",
       "      <td>32.000000</td>\n",
       "    </tr>\n",
       "    <tr>\n",
       "      <th>75%</th>\n",
       "      <td>1.621596e+09</td>\n",
       "      <td>9.862000e+03</td>\n",
       "      <td>4.165000e+03</td>\n",
       "      <td>1.115640</td>\n",
       "      <td>59.000000</td>\n",
       "      <td>10.000000</td>\n",
       "      <td>6.00000</td>\n",
       "      <td>3.000000</td>\n",
       "      <td>48.390000</td>\n",
       "    </tr>\n",
       "    <tr>\n",
       "      <th>max</th>\n",
       "      <td>2.147460e+09</td>\n",
       "      <td>2.147484e+07</td>\n",
       "      <td>1.026684e+07</td>\n",
       "      <td>15066.000000</td>\n",
       "      <td>87142.000000</td>\n",
       "      <td>80.000000</td>\n",
       "      <td>149.00000</td>\n",
       "      <td>19311.000000</td>\n",
       "      <td>91.960000</td>\n",
       "    </tr>\n",
       "  </tbody>\n",
       "</table>\n",
       "</div>"
      ],
      "text/plain": [
       "         project id          goal       pledged  funded percentage  \\\n",
       "count  4.595700e+04  4.595700e+04  4.594500e+04       45957.000000   \n",
       "mean   1.080800e+09  1.194271e+04  4.980750e+03           1.850129   \n",
       "std    6.218057e+08  1.887583e+05  5.674162e+04          88.492706   \n",
       "min    3.940900e+04  1.000000e-02  0.000000e+00           0.000000   \n",
       "25%    5.438962e+08  1.800000e+03  1.960000e+02           0.044000   \n",
       "50%    1.078345e+09  4.000000e+03  1.310000e+03           1.000000   \n",
       "75%    1.621596e+09  9.862000e+03  4.165000e+03           1.115640   \n",
       "max    2.147460e+09  2.147484e+07  1.026684e+07       15066.000000   \n",
       "\n",
       "            backers        levels      updates      comments      duration  \n",
       "count  45957.000000  45957.000000  45957.00000  45957.000000  45957.000000  \n",
       "mean      69.973192      8.004939      4.08508      8.379529     39.995547  \n",
       "std      688.628479      4.233907      6.43922    174.015737     17.414458  \n",
       "min        0.000000      0.000000      0.00000      0.000000      1.000000  \n",
       "25%        5.000000      5.000000      0.00000      0.000000     30.000000  \n",
       "50%       23.000000      7.000000      2.00000      0.000000     32.000000  \n",
       "75%       59.000000     10.000000      6.00000      3.000000     48.390000  \n",
       "max    87142.000000     80.000000    149.00000  19311.000000     91.960000  "
      ]
     },
     "execution_count": 10,
     "metadata": {},
     "output_type": "execute_result"
    }
   ],
   "source": [
    "df.describe()"
   ]
  },
  {
   "cell_type": "code",
   "execution_count": 9,
   "id": "188b2bb1-ffcf-4a7c-9d1d-05c77da7f733",
   "metadata": {},
   "outputs": [
    {
     "data": {
      "image/png": "[encoded data removed]",
      "text/plain": [
       "<Figure size 432x288 with 1 Axes>"
      ]
     },
     "metadata": {
      "needs_background": "light"
     },
     "output_type": "display_data"
    }
   ],
   "source": [
    "plt.hist(df[\"backers\"], bins = 60)\n",
    "plt.xlabel('Backers')\n",
    "plt.ylabel('Frequency')\n",
    "plt.title('Distribution for number of backers')\n",
    "plt.show()"
   ]
  },
  {
   "cell_type": "code",
   "execution_count": 15,
   "id": "22728e10-fe0d-4a04-bd02-37ac7f41f6a3",
   "metadata": {},
   "outputs": [
    {
     "name": "stdout",
     "output_type": "stream",
     "text": [
      "project id            -0.006630\n",
      "goal                 101.512992\n",
      "pledged              138.501466\n",
      "funded percentage    140.811735\n",
      "backers               87.473974\n",
      "levels                 2.573258\n",
      "updates                4.002831\n",
      "comments              69.315678\n",
      "duration               1.078027\n",
      "dtype: float64\n"
     ]
    }
   ],
   "source": [
    "print(df.skew())"
   ]
  },
  {
   "cell_type": "code",
   "execution_count": 6,
   "id": "f4fb12c2-aa66-4372-a453-aca3961e3141",
   "metadata": {},
   "outputs": [
    {
     "name": "stdout",
     "output_type": "stream",
     "text": [
      "Mode is:  0    0\n",
      "dtype: int64\n",
      "23.0\n",
      "69.97319233196248\n"
     ]
    }
   ],
   "source": [
    "print(\"Mode is: \", df[\"backers\"].mode())\n",
    "print(\"Median is: \", df[\"backers\"].median())\n",
    "print(\"Mean is: \", df[\"backers\"].mean())"
   ]
  },
  {
   "cell_type": "code",
   "execution_count": 39,
   "id": "b77f796e-aa27-4a4c-aa81-19a828434b00",
   "metadata": {},
   "outputs": [
    {
     "data": {
      "image/png": "[encoded data removed]",
      "text/plain": [
       "<Figure size 432x288 with 1 Axes>"
      ]
     },
     "metadata": {},
     "output_type": "display_data"
    }
   ],
   "source": [
    "sns.boxplot(x=df[\"backers\"])\n",
    "plt.title(\"Skewness for Backers\")\n",
    "plt.show()"
   ]
  },
  {
   "cell_type": "code",
   "execution_count": 2,
   "id": "cb0f9056-74b7-4b37-a058-63cb688199b1",
   "metadata": {},
   "outputs": [
    {
     "data": {
      "text/plain": [
       "count    45957.000000\n",
       "mean         0.000803\n",
       "std          0.007902\n",
       "min          0.000000\n",
       "25%          0.000057\n",
       "50%          0.000264\n",
       "75%          0.000677\n",
       "max          1.000000\n",
       "Name: backers, dtype: float64"
      ]
     },
     "execution_count": 2,
     "metadata": {},
     "output_type": "execute_result"
    }
   ],
   "source": [
    "def normalize(column):\n",
    "    upper = column.max()\n",
    "    lower = column.min()\n",
    "    y = (column - lower)/(upper-lower)\n",
    "    return y\n",
    "normalized = normalize(df[\"backers\"])\n",
    "normalized.describe()\n"
   ]
  },
  {
   "cell_type": "code",
   "execution_count": 3,
   "id": "69426373-05bd-4987-b061-b51e6062efe6",
   "metadata": {},
   "outputs": [
    {
     "data": {
      "image/png": "[encoded data removed]",
      "text/plain": [
       "<Figure size 432x288 with 1 Axes>"
      ]
     },
     "metadata": {
      "needs_background": "light"
     },
     "output_type": "display_data"
    }
   ],
   "source": [
    "plt.hist(normalized, bins = 60)\n",
    "plt.xlabel('Backers')\n",
    "plt.ylabel('Frequency')\n",
    "plt.title('Skewness Backers (normalized)')\n",
    "plt.show()"
   ]
  },
  {
   "cell_type": "code",
   "execution_count": 17,
   "id": "e19aae1d-97ab-4aed-bbb8-a0f5a80b58a2",
   "metadata": {},
   "outputs": [
    {
     "data": {
      "text/plain": [
       "count    4.595700e+04\n",
       "mean     7.310586e-01\n",
       "std      2.220470e-16\n",
       "min      7.310586e-01\n",
       "25%      7.310586e-01\n",
       "50%      7.310586e-01\n",
       "75%      7.310586e-01\n",
       "max      7.310586e-01\n",
       "Name: backers, dtype: float64"
      ]
     },
     "execution_count": 17,
     "metadata": {},
     "output_type": "execute_result"
    }
   ],
   "source": [
    "def sigmoid(x):\n",
    "    e = np.exp(1)\n",
    "    y = 1/(1+e**(-x))\n",
    "    return y\n",
    "sigmoid = sigmoid(df.backers)\n",
    "sigmoid.describe()"
   ]
  },
  {
   "cell_type": "code",
   "execution_count": 2,
   "id": "6dfc2e73-8211-4664-b065-e09e2b28aa8c",
   "metadata": {},
   "outputs": [
    {
     "name": "stdout",
     "output_type": "stream",
     "text": [
      "Percentiles: 25th=5.000, 75th=59.000, IQR=54.000\n",
      "Identified outliers: 3719\n",
      "Non-outlier observations: 42238\n"
     ]
    }
   ],
   "source": [
    "# interquartile range\n",
    "q25, q75 = percentile(df.backers, 25), percentile(df.backers, 75)\n",
    "iqr = q75 - q25\n",
    "print('Percentiles: 25th=%.3f, 75th=%.3f, IQR=%.3f' % (q25, q75, iqr))\n",
    "# outlier cutoff\n",
    "cut_off = iqr * 1.5\n",
    "lower, upper = q25 - cut_off, q75 + cut_off\n",
    "# identify outliers\n",
    "outliers = [x for x in df.backers if x < lower or x > upper]\n",
    "print('Identified outliers: %d' % len(outliers))\n",
    "# remove outliers\n",
    "outliers_removed = [x for x in df.backers if x >= lower and x <= upper]\n",
    "print('Non-outlier observations: %d' % len(outliers_removed))"
   ]
  },
  {
   "cell_type": "code",
   "execution_count": 4,
   "id": "957b9713-9abe-4411-822e-7f4d682d98cb",
   "metadata": {},
   "outputs": [
    {
     "data": {
      "image/png": "[encoded data removed]",
      "text/plain": [
       "<Figure size 432x288 with 1 Axes>"
      ]
     },
     "metadata": {
      "needs_background": "light"
     },
     "output_type": "display_data"
    }
   ],
   "source": [
    "sns.boxplot(x=outliers_removed)\n",
    "plt.xlabel('Backers')\n",
    "plt.title('Skewness Backers (outliers removed)')\n",
    "plt.show()"
   ]
  },
  {
   "cell_type": "code",
   "execution_count": 5,
   "id": "c963eee8-2870-4b45-a2e6-3c5742a43672",
   "metadata": {},
   "outputs": [
    {
     "data": {
      "image/png": "[encoded data removed]",
      "text/plain": [
       "<Figure size 432x288 with 1 Axes>"
      ]
     },
     "metadata": {
      "needs_background": "light"
     },
     "output_type": "display_data"
    }
   ],
   "source": [
    "q25, q75 = percentile(df.backers, 25), percentile(df.backers, 75)\n",
    "iqr = q75 - q25\n",
    "cut_off = iqr * 1.5\n",
    "lower, upper = q25 - cut_off, q75 + cut_off\n",
    "outliers = [x for x in df.backers if x < lower or x > upper]\n",
    "outliers_removed = [x for x in df.backers if x >= lower and x <= upper]\n",
    "sns.distplot(outliers_removed, kde=False)\n",
    "plt.xlabel('Backers')\n",
    "plt.ylabel('Frequency')\n",
    "plt.title('SKewness Backers (outliers removed)')\n",
    "plt.show()"
   ]
  },
  {
   "cell_type": "code",
   "execution_count": 9,
   "id": "0af9e352-8ea6-4793-b434-38d740a5f760",
   "metadata": {},
   "outputs": [
    {
     "data": {
      "image/png": "[encoded data removed]",
      "text/plain": [
       "<Figure size 432x288 with 1 Axes>"
      ]
     },
     "metadata": {
      "needs_background": "light"
     },
     "output_type": "display_data"
    }
   ],
   "source": [
    "#checking if duration variable is normally distributed\n",
    "#histogram plot\n",
    "plt.hist(df[\"duration\"], bins = 60)\n",
    "plt.xlabel('Duration')\n",
    "plt.ylabel('Frequency')\n",
    "plt.title('Distribution for duration variable')\n",
    "plt.show()"
   ]
  },
  {
   "cell_type": "code",
   "execution_count": 5,
   "id": "c1f3bb25-3c84-46da-837c-e5649b32e48e",
   "metadata": {},
   "outputs": [
    {
     "name": "stdout",
     "output_type": "stream",
     "text": [
      "Statistics=0.885, p=0.000\n",
      "Sample does not look Gaussian (reject H0)\n",
      "Statistics=0.885, p=0.000\n",
      "Sample does not look Gaussian (reject H0)\n"
     ]
    }
   ],
   "source": [
    "import pandas as pd\n",
    "import numpy as np\n",
    "import matplotlib.pyplot as plt\n",
    "import matplotlib as mpl\n",
    "from statistics import mean, median, mode, stdev\n",
    "from scipy.stats import skew\n",
    "import seaborn as sns\n",
    "from numpy import percentile\n",
    "\n",
    "\n",
    "df = pd.read_csv(\"DSI_kickstarterscrape_dataset.csv\") \n",
    "\n",
    "# Shapiro-Wilk Test\n",
    "\n",
    "from scipy.stats import shapiro\n",
    "\n",
    "# normality test\n",
    "stat, p = shapiro(df.duration)\n",
    "print('Statistics=%.3f, p=%.3f' % (stat, p))\n",
    "# interpret\n",
    "alpha = 0.05\n",
    "if p > alpha:\n",
    "\tprint('Sample looks Gaussian (fail to reject H0)')\n",
    "else:\n",
    "\tprint('Sample does not look Gaussian (reject H0)')\n",
    "\n",
    "# Shapiro-Wilk Test\n",
    "\n",
    "# normality test\n",
    "stat, p = shapiro(df.duration)\n",
    "print('Statistics=%.3f, p=%.3f' % (stat, p))\n",
    "# interpret\n",
    "alpha = 0.05\n",
    "if p > alpha:\n",
    "\tprint('Sample looks Gaussian (fail to reject H0)')\n",
    "else:\n",
    "\tprint('Sample does not look Gaussian (reject H0)')"
   ]
  },
  {
   "cell_type": "code",
   "execution_count": 6,
   "id": "09b5ad18-6e17-4ed7-afad-e1d56fda99c2",
   "metadata": {},
   "outputs": [
    {
     "name": "stdout",
     "output_type": "stream",
     "text": [
      "Statistics=6985.575, p=0.000\n",
      "Sample does not look Gaussian (reject H0)\n"
     ]
    }
   ],
   "source": [
    "# D'Agostino and Pearson's Test\n",
    "from numpy.random import randn\n",
    "from scipy.stats import normaltest\n",
    "\n",
    "# normality test\n",
    "stat, p = normaltest(df.duration)\n",
    "print('Statistics=%.3f, p=%.3f' % (stat, p))\n",
    "# interpret\n",
    "alpha = 0.05\n",
    "if p > alpha:\n",
    "\tprint('Sample looks Gaussian (fail to reject H0)')\n",
    "else:\n",
    "\tprint('Sample does not look Gaussian (reject H0)')"
   ]
  },
  {
   "cell_type": "code",
   "execution_count": null,
   "id": "1a1605ae-0501-4950-92bd-f8206ca3ca53",
   "metadata": {},
   "outputs": [],
   "source": [
    "#Part 2: Qualitative Analysis\n",
    "#2.1 What's the best length of time to run a campaign?\n",
    "#first we look at correlation between duration and status"
   ]
  },
  {
   "cell_type": "code",
   "execution_count": 42,
   "id": "b2f96a9b-556a-4239-8324-f8e71934aeea",
   "metadata": {},
   "outputs": [
    {
     "name": "stdout",
     "output_type": "stream",
     "text": [
      "       project id                                               name  \\\n",
      "0           39409                              WHILE THE TREES SLEEP   \n",
      "1          126581               Educational Online Trading Card Game   \n",
      "2          138119                                              STRUM   \n",
      "3          237090  GETTING OVER - One son's search to finally kno...   \n",
      "4          246101  The Launch of FlyeGrlRoyalty &quot;The New Nam...   \n",
      "...           ...                                                ...   \n",
      "45952  2147336747                                  The Dance Project   \n",
      "45953  2147346811  new album from J-Sw!ft The Adventures of Negro...   \n",
      "45954  2147367534                                      ELIZABETH REX   \n",
      "45955  2147369705                     Dragon Keepers IV Book Project   \n",
      "45956  2147460119                                 Moments of Insight   \n",
      "\n",
      "                                                     url      category  \\\n",
      "0      http://www.kickstarter.com/projects/emiliesaba...  Film & Video   \n",
      "1      http://www.kickstarter.com/projects/972789543/...         Games   \n",
      "2      http://www.kickstarter.com/projects/185476022/...  Film & Video   \n",
      "3      http://www.kickstarter.com/projects/charnick/g...  Film & Video   \n",
      "4      http://www.kickstarter.com/projects/flyegrlroy...       Fashion   \n",
      "...                                                  ...           ...   \n",
      "45952  http://www.kickstarter.com/projects/685772205/...         Dance   \n",
      "45953  http://www.kickstarter.com/projects/170926480/...         Music   \n",
      "45954  http://www.kickstarter.com/projects/elizabethr...         Music   \n",
      "45955  http://www.kickstarter.com/projects/brucegoldw...    Publishing   \n",
      "45956  http://www.kickstarter.com/projects/1743305220...           Art   \n",
      "\n",
      "              subcategory         location  status     goal  pledged  \\\n",
      "0              Short Film     Columbia, MO       1  10500.0  11545.0   \n",
      "1      Board & Card Games    Maplewood, NJ       0   4000.0     20.0   \n",
      "2               Animation  Los Angeles, CA       0  20000.0     56.0   \n",
      "3             Documentary  Los Angeles, CA       1   6000.0   6535.0   \n",
      "4                 Fashion         Novi, MI       0   3500.0      0.0   \n",
      "...                   ...              ...     ...      ...      ...   \n",
      "45952               Dance       Austin, TX       1    500.0    601.0   \n",
      "45953             Hip-Hop  Los Angeles, CA       0  10000.0     75.0   \n",
      "45954                Rock  Los Angeles, CA       1  10000.0  10000.0   \n",
      "45955             Fiction   Vero Beach, FL       0   2999.0    257.0   \n",
      "45956      Conceptual Art      Bozeman, MT       1  18000.0  18758.0   \n",
      "\n",
      "       funded percentage  backers                      funded date  levels  \\\n",
      "0               1.099524       66  Fri, 19 Aug 2011 19:28:17 -0000       7   \n",
      "1               0.005000        2  Mon, 02 Aug 2010 03:59:00 -0000       5   \n",
      "2               0.002800        3  Fri, 08 Jun 2012 00:00:31 -0000      10   \n",
      "3               1.089167      100  Sun, 08 Apr 2012 02:14:00 -0000      13   \n",
      "4               0.000000        0  Wed, 01 Jun 2011 15:25:39 -0000       6   \n",
      "...                  ...      ...                              ...     ...   \n",
      "45952           1.202000       13  Fri, 30 Mar 2012 13:57:00 -0000       3   \n",
      "45953           0.007500        2  Sun, 22 Apr 2012 02:12:10 -0000      14   \n",
      "45954           1.000000       58  Mon, 16 Jan 2012 05:00:00 -0000       4   \n",
      "45955           0.085695       11  Sat, 19 May 2012 19:44:47 -0000       7   \n",
      "45956           1.042111       53  Thu, 04 Aug 2011 04:30:00 -0000      10   \n",
      "\n",
      "                                           reward levels  updates  comments  \\\n",
      "0                   $25,$50,$100,$250,$500,$1,000,$2,500       10         2   \n",
      "1                                      $1,$5,$10,$25,$50        6         0   \n",
      "2      $1,$10,$25,$40,$50,$100,$250,$1,000,$1,337,$9,001        1         0   \n",
      "3      $1,$10,$25,$30,$50,$75,$85,$100,$110,$250,$500...        4         0   \n",
      "4                             $10,$25,$50,$100,$150,$250        2         0   \n",
      "...                                                  ...      ...       ...   \n",
      "45952                                       $20,$50,$100        2         0   \n",
      "45953  $1,$5,$10,$25,$50,$50,$75,$100,$200,$250,$500,...        1         1   \n",
      "45954                                  $10,$25,$100,$500        2         0   \n",
      "45955                        $15,$16,$19,$29,$29,$39,$75       17         0   \n",
      "45956  $25,$25,$50,$100,$125,$250,$500,$1,250,$2,500,...       20         4   \n",
      "\n",
      "       duration  \n",
      "0         30.00  \n",
      "1         47.18  \n",
      "2         28.00  \n",
      "3         32.22  \n",
      "4         30.00  \n",
      "...         ...  \n",
      "45952     37.83  \n",
      "45953     59.96  \n",
      "45954     27.32  \n",
      "45955     30.00  \n",
      "45956     40.38  \n",
      "\n",
      "[45957 rows x 17 columns]\n"
     ]
    }
   ],
   "source": [
    "#convert status category variables to integer type\n",
    "mapping = {'successful': 1, 'failed': 0, 'suspended': 0, 'canceled':0, 'live': 0}\n",
    "\n",
    "new = df.replace({'status': mapping})\n",
    "new['status'] = new['status'].astype(int)\n",
    "print(new)\n"
   ]
  },
  {
   "cell_type": "code",
   "execution_count": 12,
   "id": "76360a4f-cb50-4854-b836-69ecb06b4bdf",
   "metadata": {},
   "outputs": [
    {
     "data": {
      "text/plain": [
       "array([[ 1.        , -0.11681402],\n",
       "       [-0.11681402,  1.        ]])"
      ]
     },
     "execution_count": 12,
     "metadata": {},
     "output_type": "execute_result"
    }
   ],
   "source": [
    "np.corrcoef(new['duration'], new['status'])"
   ]
  },
  {
   "cell_type": "code",
   "execution_count": 11,
   "id": "1caef70d-f1ef-4a06-b39c-e9ddb48030a6",
   "metadata": {},
   "outputs": [
    {
     "data": {
      "image/png": "[encoded data removed]",
      "text/plain": [
       "<Figure size 360x360 with 1 Axes>"
      ]
     },
     "metadata": {
      "needs_background": "light"
     },
     "output_type": "display_data"
    }
   ],
   "source": [
    "#coefficient of 0.11 show no correlation between duration and status\n",
    "#plotting the results\n",
    "sns.catplot(x='status', y='duration', kind = 'bar', data=df)\n",
    "plt.xlabel('Status')\n",
    "plt.ylabel('Duration')\n",
    "plt.title('Duration vs Status')\n",
    "plt.show()"
   ]
  },
  {
   "cell_type": "code",
   "execution_count": 15,
   "id": "15ff937e-6faa-4a93-a2e5-11db1478b83c",
   "metadata": {},
   "outputs": [
    {
     "data": {
      "image/png": "[encoded data removed]",
      "text/plain": [
       "<Figure size 360x360 with 1 Axes>"
      ]
     },
     "metadata": {
      "needs_background": "light"
     },
     "output_type": "display_data"
    }
   ],
   "source": [
    "sns.catplot(x='status', y='duration', kind = 'bar', data=new)\n",
    "plt.xlabel('Status, 1 = successful')\n",
    "plt.ylabel('Duration')\n",
    "plt.title('Duration vs Status')\n",
    "plt.show()"
   ]
  },
  {
   "cell_type": "code",
   "execution_count": 27,
   "id": "3031c5fe-4be9-477c-a3b1-7001b3f8d653",
   "metadata": {
    "tags": []
   },
   "outputs": [
    {
     "data": {
      "image/png": "[encoded data removed]",
      "text/plain": [
       "<Figure size 432x288 with 1 Axes>"
      ]
     },
     "metadata": {
      "needs_background": "light"
     },
     "output_type": "display_data"
    }
   ],
   "source": [
    "#now we look at duration and funded percentage\n",
    "#correlation between numeric variables\n",
    "plt.scatter(df['duration'], df['funded percentage'])\n",
    "plt.xlabel('Funded Percentage')\n",
    "plt.ylabel('Duration')\n",
    "plt.title('Duration vs Funded Percentage')\n",
    "plt.show()"
   ]
  },
  {
   "cell_type": "code",
   "execution_count": 13,
   "id": "4dfd50a2-b14f-4e9f-b528-cd5ea8e48a2a",
   "metadata": {},
   "outputs": [
    {
     "data": {
      "text/plain": [
       "array([[ 1.        , -0.00316407],\n",
       "       [-0.00316407,  1.        ]])"
      ]
     },
     "execution_count": 13,
     "metadata": {},
     "output_type": "execute_result"
    }
   ],
   "source": [
    "#the plot suggests abscence of linear relationship\n",
    "np.corrcoef(df['duration'], df['funded percentage'])"
   ]
  },
  {
   "cell_type": "code",
   "execution_count": 14,
   "id": "29fbcb97-f968-46c3-b088-595fb95acc09",
   "metadata": {},
   "outputs": [
    {
     "data": {
      "text/plain": [
       "LinregressResult(slope=-0.016078422823805963, intercept=2.493193912868685, rvalue=-0.0031640688576789317, pvalue=0.4975921729243339, stderr=0.02370439961588123, intercept_stderr=1.0340391967894353)"
      ]
     },
     "execution_count": 14,
     "metadata": {},
     "output_type": "execute_result"
    }
   ],
   "source": [
    "#coefficients show no correlation between duration and funded percentage\n",
    "#confirm this with linear regression\n",
    "from scipy.stats import linregress\n",
    "linregress(df['duration'], df['funded percentage'])"
   ]
  },
  {
   "cell_type": "code",
   "execution_count": null,
   "id": "bf43ad3e-d893-418e-9438-2d7e3dee14d5",
   "metadata": {},
   "outputs": [],
   "source": [
    "#since the p-value is 0.5, there is a 50% chance duration and funded percentage correlate."
   ]
  },
  {
   "cell_type": "code",
   "execution_count": 16,
   "id": "a8b74314-1a86-460f-a4a7-56203e4a89fe",
   "metadata": {},
   "outputs": [],
   "source": [
    "#Conclusion: very weak correlation between duration and success"
   ]
  },
  {
   "cell_type": "code",
   "execution_count": 17,
   "id": "84d6616d-dbd5-4a6e-9d45-3930e309b3e4",
   "metadata": {},
   "outputs": [],
   "source": [
    "#2.2 What's the ideal pledge goal?"
   ]
  },
  {
   "cell_type": "code",
   "execution_count": 28,
   "id": "ab428219-2c5d-40c8-ae23-cb381d7abd2a",
   "metadata": {},
   "outputs": [
    {
     "data": {
      "image/png": "[encoded data removed]",
      "text/plain": [
       "<Figure size 360x360 with 1 Axes>"
      ]
     },
     "metadata": {
      "needs_background": "light"
     },
     "output_type": "display_data"
    }
   ],
   "source": [
    "#we do the same analysis as for the duration and success\n",
    "#plotting the results\n",
    "sns.catplot(x='status', y='goal', kind = 'bar', data=df)\n",
    "plt.xlabel('Status')\n",
    "plt.ylabel('Goal')\n",
    "plt.title('Succes vs Goal')\n",
    "plt.show()"
   ]
  },
  {
   "cell_type": "code",
   "execution_count": 19,
   "id": "501e1229-93fe-44b6-8eb6-55a3fe2ff444",
   "metadata": {},
   "outputs": [
    {
     "data": {
      "image/png": "[encoded data removed]",
      "text/plain": [
       "<Figure size 360x360 with 1 Axes>"
      ]
     },
     "metadata": {
      "needs_background": "light"
     },
     "output_type": "display_data"
    }
   ],
   "source": [
    "#the graph indicates successful projects asked for less than $10000\n",
    "sns.catplot(x='status', y='goal', kind = 'bar', data=new)\n",
    "plt.xlabel('Status, 1 = successful')\n",
    "plt.ylabel('Goal')\n",
    "plt.title('Goal vs Status')\n",
    "plt.show()"
   ]
  },
  {
   "cell_type": "code",
   "execution_count": 23,
   "id": "0b28c70e-9e73-43cd-ace7-047c6702eaab",
   "metadata": {},
   "outputs": [],
   "source": [
    "#this graph confirms the results"
   ]
  },
  {
   "cell_type": "code",
   "execution_count": 29,
   "id": "d8333cba-952f-4d4a-8cdc-dd7cbed58725",
   "metadata": {},
   "outputs": [],
   "source": [
    "new['goal'] = new['goal'].astype(int)"
   ]
  },
  {
   "cell_type": "code",
   "execution_count": 28,
   "id": "e9e4f3a0-cc19-4d04-86b8-03fc0b18af5a",
   "metadata": {},
   "outputs": [
    {
     "data": {
      "text/plain": [
       "LinregressResult(slope=-9.06035194720186e-08, intercept=0.5008753363399511, rvalue=-0.034203963743657244, pvalue=2.2263410397976805e-13, stderr=1.234946244433078e-08, intercept_stderr=0.0023356992972438204)"
      ]
     },
     "execution_count": 28,
     "metadata": {},
     "output_type": "execute_result"
    }
   ],
   "source": [
    "#confirm this with linear regression\n",
    "from scipy.stats import linregress\n",
    "linregress(new['goal'], new['status'])"
   ]
  },
  {
   "cell_type": "code",
   "execution_count": 30,
   "id": "7f4d92d1-6d7e-4097-a4b0-ea3ef3429b9b",
   "metadata": {},
   "outputs": [],
   "source": [
    "#since the p-value is less than 0.05, the results are statistically significant and correlate between the status and the goal."
   ]
  },
  {
   "cell_type": "code",
   "execution_count": 32,
   "id": "c5af3a31-2a2c-4bb1-b8d3-815a5146e69e",
   "metadata": {},
   "outputs": [
    {
     "name": "stdout",
     "output_type": "stream",
     "text": [
      "subcategory  Animation  Art  Art Book  Board & Card Games  \\\n",
      "status                                                      \n",
      "canceled             0    0         0                   0   \n",
      "failed             233  400       143                  43   \n",
      "live                48   66        38                  19   \n",
      "successful         145  610       158                  49   \n",
      "suspended            0    0         0                   0   \n",
      "\n",
      "subcategory  Board &amp; Card Games  Children's Book  Classical Music  Comics  \\\n",
      "status                                                                          \n",
      "canceled                          1                2                1       0   \n",
      "failed                          167              366              110     448   \n",
      "live                             62              109               50     104   \n",
      "successful                      212              176              321     520   \n",
      "suspended                         0                0                0       0   \n",
      "\n",
      "subcategory  Conceptual Art  Country & Folk  ...  Public Art  Publishing  \\\n",
      "status                                       ...                           \n",
      "canceled                  0               1  ...           0           0   \n",
      "failed                   70              65  ...         174         375   \n",
      "live                     11              18  ...          55          57   \n",
      "successful               97             166  ...         335         241   \n",
      "suspended                 0               0  ...           0           0   \n",
      "\n",
      "subcategory  Rock  Sculpture  Short Film  Technology  Theater  Video Games  \\\n",
      "status                                                                       \n",
      "canceled        2          0           5           0        0            8   \n",
      "failed        512        152        1444         210      680          517   \n",
      "live          160         26         187          41      170          149   \n",
      "successful   1117        178        2306         120     1642          237   \n",
      "suspended       0          0           0           1        0            0   \n",
      "\n",
      "subcategory  Webseries  World Music  \n",
      "status                               \n",
      "canceled             1            0  \n",
      "failed             594          139  \n",
      "live                96           45  \n",
      "successful         431          244  \n",
      "suspended            0            0  \n",
      "\n",
      "[5 rows x 51 columns]\n",
      "The P-Value of the ChiSq Test is: 0.0\n"
     ]
    }
   ],
   "source": [
    "#2.3 What type of projects would be most successful at getting funded?\n",
    "\n",
    "#we look at the correlation between subcategory and status\n",
    "CrosstabResult=pd.crosstab(index=df['status'],columns=df['subcategory'])\n",
    "print(CrosstabResult)\n",
    " \n",
    "# importing the required function\n",
    "from scipy.stats import chi2_contingency\n",
    " \n",
    "# Performing Chi-sq test\n",
    "ChiSqResult = chi2_contingency(CrosstabResult)\n",
    " \n",
    "# P-Value is the Probability of H0 being True\n",
    "# If P-Value>0.05 then only we Accept the assumption(H0)\n",
    " \n",
    "print('The P-Value of the ChiSq Test is:', ChiSqResult[1])"
   ]
  },
  {
   "cell_type": "code",
   "execution_count": 2,
   "id": "baff7c0a-e5ae-4296-99d0-601e343d56f8",
   "metadata": {},
   "outputs": [
    {
     "data": {
      "text/plain": [
       "['Short Film',\n",
       " 'Board & Card Games',\n",
       " 'Animation',\n",
       " 'Documentary',\n",
       " 'Fashion',\n",
       " 'Music',\n",
       " 'Illustration',\n",
       " 'Film &amp; Video',\n",
       " 'Open Software',\n",
       " 'Indie Rock',\n",
       " 'Dance',\n",
       " 'Fiction',\n",
       " 'Nonfiction',\n",
       " 'Theater',\n",
       " 'Games',\n",
       " 'Art Book',\n",
       " 'Country & Folk',\n",
       " 'Comics',\n",
       " 'Webseries',\n",
       " 'Technology',\n",
       " 'Performance Art',\n",
       " 'Narrative Film',\n",
       " 'Video Games',\n",
       " 'Product Design',\n",
       " 'Rock',\n",
       " 'Painting',\n",
       " 'Photography',\n",
       " 'Conceptual Art',\n",
       " 'Jazz',\n",
       " 'Open Hardware',\n",
       " 'Classical Music',\n",
       " 'Food',\n",
       " 'Art',\n",
       " 'Pop',\n",
       " 'Journalism',\n",
       " 'Poetry',\n",
       " 'Electronic Music',\n",
       " 'World Music',\n",
       " 'Sculpture',\n",
       " 'Publishing',\n",
       " \"Children's Book\",\n",
       " 'Public Art',\n",
       " 'Mixed Media',\n",
       " 'Graphic Design',\n",
       " 'Hip-Hop',\n",
       " 'Periodical',\n",
       " 'Crafts',\n",
       " 'Design',\n",
       " 'Digital Art',\n",
       " 'Board &amp; Card Games',\n",
       " 'Country &amp; Folk']"
      ]
     },
     "execution_count": 2,
     "metadata": {},
     "output_type": "execute_result"
    }
   ],
   "source": [
    "# p-value is 0, hence H0 will not be accepted and the variables correlate with each other\n",
    "mapping = {'successful': 1, 'failed': 0, 'suspended': 0, 'canceled':0, 'live': 0}\n",
    "\n",
    "new = df.replace({'status': mapping})\n",
    "new['status'] = new['status'].astype(int)\n",
    "new['subcategory'].unique().tolist()"
   ]
  },
  {
   "cell_type": "code",
   "execution_count": 15,
   "id": "1c632b0c-b452-4670-a34c-a8867227f500",
   "metadata": {},
   "outputs": [
    {
     "data": {
      "text/plain": [
       "['Short Film',\n",
       " 'Board & Card Games',\n",
       " 'Animation',\n",
       " 'Documentary',\n",
       " 'Fashion',\n",
       " 'Music',\n",
       " 'Illustration',\n",
       " 'Film & Video',\n",
       " 'Open Software',\n",
       " 'Indie Rock',\n",
       " 'Dance',\n",
       " 'Fiction',\n",
       " 'Nonfiction',\n",
       " 'Theater',\n",
       " 'Games',\n",
       " 'Art Book',\n",
       " 'Country & Folk',\n",
       " 'Comics',\n",
       " 'Webseries',\n",
       " 'Technology',\n",
       " 'Performance Art',\n",
       " 'Narrative Film',\n",
       " 'Video Games',\n",
       " 'Product Design',\n",
       " 'Rock',\n",
       " 'Painting',\n",
       " 'Photography',\n",
       " 'Conceptual Art',\n",
       " 'Jazz',\n",
       " 'Open Hardware',\n",
       " 'Classical Music',\n",
       " 'Food',\n",
       " 'Art',\n",
       " 'Pop',\n",
       " 'Journalism',\n",
       " 'Poetry',\n",
       " 'Electronic Music',\n",
       " 'World Music',\n",
       " 'Sculpture',\n",
       " 'Publishing',\n",
       " \"Children's Book\",\n",
       " 'Public Art',\n",
       " 'Mixed Media',\n",
       " 'Graphic Design',\n",
       " 'Hip-Hop',\n",
       " 'Periodical',\n",
       " 'Crafts',\n",
       " 'Design',\n",
       " 'Digital Art']"
      ]
     },
     "execution_count": 15,
     "metadata": {},
     "output_type": "execute_result"
    }
   ],
   "source": [
    "#there are repeated sub-categories\n",
    "# Plot showing rates of success by duration\n",
    "new['subcategory'] = new['subcategory'].replace(['Country &amp; Folk'], 'Country & Folk')\n",
    "new['subcategory'] = new['subcategory'].replace(['Board &amp; Card Games'], 'Board & Card Games')\n",
    "new['subcategory'] = new['subcategory'].replace(['Film &amp; Video'], 'Film & Video')\n",
    "new['subcategory'].unique().tolist()\n"
   ]
  },
  {
   "cell_type": "code",
   "execution_count": 4,
   "id": "3a674435-0bf9-447b-9251-9567aff972cf",
   "metadata": {},
   "outputs": [
    {
     "data": {
      "image/png": "[encoded data removed]",
      "text/plain": [
       "<Figure size 1440x720 with 1 Axes>"
      ]
     },
     "metadata": {
      "needs_background": "light"
     },
     "output_type": "display_data"
    }
   ],
   "source": [
    "import seaborn as sns\n",
    "mapping = {'successful': 1, 'failed': 0, 'suspended': 0, 'canceled':0, 'live': 0}\n",
    "\n",
    "new = df.replace({'status': mapping})\n",
    "new['status'] = new['status'].astype(int)\n",
    "new['subcategory'].unique().tolist()\n",
    "new['subcategory'] = new['subcategory'].replace(['Country &amp; Folk'], 'Country & Folk')\n",
    "new['subcategory'] = new['subcategory'].replace(['Board &amp; Card Games'], 'Board & Card Games')\n",
    "new['subcategory'] = new['subcategory'].replace(['Film &amp; Video'], 'Film & Video')\n",
    "\n",
    "sns.catplot(y='subcategory', x='status', data=new, kind='bar', height=10, aspect=2)\n",
    "plt.xlabel('Percent Success')\n",
    "plt.ylabel('Subcategory')\n",
    "plt.title('Success by Subcategory')\n",
    "plt.show()"
   ]
  },
  {
   "cell_type": "code",
   "execution_count": 4,
   "id": "f4553970-23ac-449e-9a2e-8eb25cb7020f",
   "metadata": {},
   "outputs": [
    {
     "data": {
      "text/plain": [
       "['Film & Video',\n",
       " 'Games',\n",
       " 'Fashion',\n",
       " 'Music',\n",
       " 'Art',\n",
       " 'Technology',\n",
       " 'Dance',\n",
       " 'Publishing',\n",
       " 'Theater',\n",
       " 'Comics',\n",
       " 'Design',\n",
       " 'Photography',\n",
       " 'Food',\n",
       " 'Film &amp; Video']"
      ]
     },
     "execution_count": 4,
     "metadata": {},
     "output_type": "execute_result"
    }
   ],
   "source": [
    "new['category'].unique().tolist()"
   ]
  },
  {
   "cell_type": "code",
   "execution_count": 5,
   "id": "89dc7061-6512-46cc-b3f9-2361c2bfd071",
   "metadata": {},
   "outputs": [
    {
     "data": {
      "text/plain": [
       "['Film & Video',\n",
       " 'Games',\n",
       " 'Fashion',\n",
       " 'Music',\n",
       " 'Art',\n",
       " 'Technology',\n",
       " 'Dance',\n",
       " 'Publishing',\n",
       " 'Theater',\n",
       " 'Comics',\n",
       " 'Design',\n",
       " 'Photography',\n",
       " 'Food']"
      ]
     },
     "execution_count": 5,
     "metadata": {},
     "output_type": "execute_result"
    }
   ],
   "source": [
    "# there are repeated categories too\n",
    "new['category'] = new['category'].replace(['Film &amp; Video'], 'Film & Video')\n",
    "new['category'].unique().tolist()"
   ]
  },
  {
   "cell_type": "code",
   "execution_count": 11,
   "id": "eddb081d-8dca-43d0-8f5a-886e89d3b26f",
   "metadata": {},
   "outputs": [
    {
     "data": {
      "image/png": "[encoded data removed]",
      "text/plain": [
       "<Figure size 720x360 with 1 Axes>"
      ]
     },
     "metadata": {
      "needs_background": "light"
     },
     "output_type": "display_data"
    }
   ],
   "source": [
    "sns.catplot(y='status', x='category', data=new, kind='bar', height=5, aspect=2)\n",
    "plt.xlabel('Category')\n",
    "plt.ylabel('Percent Success')\n",
    "plt.title('Success by Category')\n",
    "plt.show()"
   ]
  },
  {
   "cell_type": "code",
   "execution_count": 29,
   "id": "b91436d4-1d4c-4833-b315-9339a3357481",
   "metadata": {},
   "outputs": [],
   "source": [
    "# the above graphs indicate that the most successful categories were dance, then theater and music.\n",
    "# The most successful subcategories were Indi Rock, Dance, Country and Folk."
   ]
  },
  {
   "cell_type": "code",
   "execution_count": 7,
   "id": "b92ece19-06dd-4e7f-ac8f-053562ae444a",
   "metadata": {},
   "outputs": [],
   "source": [
    "# 2.4 Is there an ideal month/day/time to launch a campaign"
   ]
  },
  {
   "cell_type": "code",
   "execution_count": 19,
   "id": "85f7c50d-54a0-4ada-8d8b-1dceb32e3010",
   "metadata": {},
   "outputs": [],
   "source": [
    "# we have to look at the correlation between month/day/time and success\n",
    "# first, we split month/day/time into month, day, year, time\n",
    "import datetime as dt\n",
    "\n"
   ]
  },
  {
   "cell_type": "code",
   "execution_count": 2,
   "id": "d56a3867-5af6-41ed-a8fa-7ce56b8e9d21",
   "metadata": {},
   "outputs": [
    {
     "data": {
      "image/png": "[encoded data removed]",
      "text/plain": [
       "<Figure size 720x360 with 1 Axes>"
      ]
     },
     "metadata": {
      "needs_background": "light"
     },
     "output_type": "display_data"
    }
   ],
   "source": [
    "new_status = {'successful': True, 'failed': False, 'suspended': False, 'canceled':False}\n",
    "df['new_status'] = df['status'].map(new_status)\n",
    "\n",
    "df['DateOfMonth'] = pd.to_datetime(df['funded date']).dt.date\n",
    "df['Time'] = pd.to_datetime(df['funded date']).dt.time\n",
    "df['DateOfWeek'] = pd.to_datetime(df['funded date']).dt.dayofweek\n",
    "df['Month'] = pd.to_datetime(df['funded date']).dt.month\n",
    "df['Year'] = pd.to_datetime(df['funded date']).dt.year\n",
    "\n",
    "sns.catplot(y='new_status', x='Month', data=df, kind='bar', height=5, aspect=2)\n",
    "plt.xlabel('Month')\n",
    "plt.ylabel('Percent Success')\n",
    "plt.title('Success by Month')\n",
    "plt.show()"
   ]
  },
  {
   "cell_type": "code",
   "execution_count": 31,
   "id": "46ea4802-95aa-4cef-a8aa-aed7b35a5517",
   "metadata": {},
   "outputs": [],
   "source": [
    "# From the graph we see there is no correlation between the month of funding and success"
   ]
  },
  {
   "cell_type": "code",
   "execution_count": 13,
   "id": "c3d76def-52a2-47ce-ac91-7a63ac7503d0",
   "metadata": {},
   "outputs": [
    {
     "data": {
      "image/png": "[encoded data removed]",
      "text/plain": [
       "<Figure size 720x360 with 1 Axes>"
      ]
     },
     "metadata": {
      "needs_background": "light"
     },
     "output_type": "display_data"
    }
   ],
   "source": [
    "# year and success\n",
    "sns.catplot(y='status', x='Year', data=df, kind='bar', height=5, aspect=2)\n",
    "plt.xlabel('Year')\n",
    "plt.ylabel('Percent Success')\n",
    "plt.title('Success by Year')\n",
    "plt.show()\n"
   ]
  },
  {
   "cell_type": "code",
   "execution_count": 23,
   "id": "fa798394-9b4b-4826-b690-50751a3d2bd0",
   "metadata": {},
   "outputs": [],
   "source": [
    "# no correlation"
   ]
  },
  {
   "cell_type": "code",
   "execution_count": 14,
   "id": "71f4d13e-8d99-4de5-b893-b58fda53e2f3",
   "metadata": {},
   "outputs": [
    {
     "data": {
      "image/png": "[encoded data removed]",
      "text/plain": [
       "<Figure size 720x360 with 1 Axes>"
      ]
     },
     "metadata": {
      "needs_background": "light"
     },
     "output_type": "display_data"
    }
   ],
   "source": [
    "# day of the month and success\n",
    "sns.catplot(y='status', x='DayOfMonth', data=df, kind='bar', height=5, aspect=2)\n",
    "plt.xlabel('Day of the month')\n",
    "plt.ylabel('Percent Success')\n",
    "plt.title('Success by Day of the Month')\n",
    "plt.show()\n"
   ]
  },
  {
   "cell_type": "code",
   "execution_count": 15,
   "id": "9dad42e1-dcac-43da-80ca-44229e661ba4",
   "metadata": {},
   "outputs": [
    {
     "data": {
      "image/png": "[encoded data removed]",
      "text/plain": [
       "<Figure size 720x360 with 1 Axes>"
      ]
     },
     "metadata": {
      "needs_background": "light"
     },
     "output_type": "display_data"
    }
   ],
   "source": [
    "# day of the week and success\n",
    "sns.catplot(y='status', x='DayOfWeek', data=df, kind='bar', height=5, aspect=2)\n",
    "plt.xlabel('Day of the week')\n",
    "plt.ylabel('Percent Success')\n",
    "plt.title('Success by Day of the Week')\n",
    "plt.show()\n"
   ]
  },
  {
   "cell_type": "code",
   "execution_count": 32,
   "id": "60c29450-a711-4410-88e1-0fcf9fa416ab",
   "metadata": {},
   "outputs": [],
   "source": [
    "# no correlation between day/month/year/time and success"
   ]
  }
 ],
 "metadata": {
  "kernelspec": {
   "display_name": "Python 3",
   "language": "python",
   "name": "python3"
  },
  "language_info": {
   "codemirror_mode": {
    "name": "ipython",
    "version": 3
   },
   "file_extension": ".py",
   "mimetype": "text/x-python",
   "name": "python",
   "nbconvert_exporter": "python",
   "pygments_lexer": "ipython3",
   "version": "3.8.5"
  }
 },
 "nbformat": 4,
 "nbformat_minor": 5
}
