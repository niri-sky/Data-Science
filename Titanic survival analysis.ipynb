{
 "cells": [
  {
   "cell_type": "code",
   "execution_count": 2,
   "id": "c8b17cd0-ebce-4ce7-84c4-3641a96a369f",
   "metadata": {},
   "outputs": [],
   "source": [
    "import numpy as np\n",
    "import pandas as pd\n",
    "from IPython.display import display #display for data frames\n",
    "\n",
    "%matplotlib inline\n",
    "\n",
    "df = pd.read_csv(\"titanic_data.csv\")  "
   ]
  },
  {
   "cell_type": "code",
   "execution_count": 3,
   "id": "6957a414-d0f0-4e51-b93a-c771b9de21dd",
   "metadata": {},
   "outputs": [
    {
     "data": {
      "text/html": [
       "<div>\n",
       "<style scoped>\n",
       "    .dataframe tbody tr th:only-of-type {\n",
       "        vertical-align: middle;\n",
       "    }\n",
       "\n",
       "    .dataframe tbody tr th {\n",
       "        vertical-align: top;\n",
       "    }\n",
       "\n",
       "    .dataframe thead th {\n",
       "        text-align: right;\n",
       "    }\n",
       "</style>\n",
       "<table border=\"1\" class=\"dataframe\">\n",
       "  <thead>\n",
       "    <tr style=\"text-align: right;\">\n",
       "      <th></th>\n",
       "      <th>PassengerId;\"Survived\";\"Pclass\";\"Name\";\"Sex\";\"Age\";\"SibSp\";\"Parch\";\"Ticket\";\"Fare\";\"Cabin\";\"Embarked\"</th>\n",
       "    </tr>\n",
       "  </thead>\n",
       "  <tbody>\n",
       "    <tr>\n",
       "      <th>1;0;3;\"Braund</th>\n",
       "      <td>Mr. Owen Harris\";\"male\";22;1;0;\"A/5 21171\";7....</td>\n",
       "    </tr>\n",
       "    <tr>\n",
       "      <th>2;1;1;\"Cumings</th>\n",
       "      <td>Mrs. John Bradley (Florence Briggs Thayer)\";\"...</td>\n",
       "    </tr>\n",
       "    <tr>\n",
       "      <th>3;1;3;\"Heikkinen</th>\n",
       "      <td>Miss. Laina\";\"female\";26;0;0;\"STON/O2. 310128...</td>\n",
       "    </tr>\n",
       "    <tr>\n",
       "      <th>4;1;1;\"Futrelle</th>\n",
       "      <td>Mrs. Jacques Heath (Lily May Peel)\";\"female\";...</td>\n",
       "    </tr>\n",
       "    <tr>\n",
       "      <th>5;0;3;\"Allen</th>\n",
       "      <td>Mr. William Henry\";\"male\";35;0;0;\"373450\";8.0...</td>\n",
       "    </tr>\n",
       "  </tbody>\n",
       "</table>\n",
       "</div>"
      ],
      "text/plain": [
       "                 PassengerId;\"Survived\";\"Pclass\";\"Name\";\"Sex\";\"Age\";\"SibSp\";\"Parch\";\"Ticket\";\"Fare\";\"Cabin\";\"Embarked\"\n",
       "1;0;3;\"Braund      Mr. Owen Harris\";\"male\";22;1;0;\"A/5 21171\";7....                                                   \n",
       "2;1;1;\"Cumings     Mrs. John Bradley (Florence Briggs Thayer)\";\"...                                                   \n",
       "3;1;3;\"Heikkinen   Miss. Laina\";\"female\";26;0;0;\"STON/O2. 310128...                                                   \n",
       "4;1;1;\"Futrelle    Mrs. Jacques Heath (Lily May Peel)\";\"female\";...                                                   \n",
       "5;0;3;\"Allen       Mr. William Henry\";\"male\";35;0;0;\"373450\";8.0...                                                   "
      ]
     },
     "metadata": {},
     "output_type": "display_data"
    }
   ],
   "source": [
    "display(df.head())"
   ]
  },
  {
   "cell_type": "code",
   "execution_count": 3,
   "id": "eb375e6e-c681-4c74-ba99-97c4b9d9e33d",
   "metadata": {},
   "outputs": [
    {
     "data": {
      "text/plain": [
       "['PassengerId',\n",
       " 'Survived',\n",
       " 'Pclass',\n",
       " 'Name',\n",
       " 'Sex',\n",
       " 'Age',\n",
       " 'SibSp',\n",
       " 'Parch',\n",
       " 'Ticket',\n",
       " 'Fare',\n",
       " 'Cabin',\n",
       " 'Embarked']"
      ]
     },
     "execution_count": 3,
     "metadata": {},
     "output_type": "execute_result"
    }
   ],
   "source": [
    "# remove survived from data\n",
    "\n",
    "df.columns.tolist()\n"
   ]
  },
  {
   "cell_type": "code",
   "execution_count": 9,
   "id": "18c9e9cd-96ee-47a7-9d6e-54b479914d0f",
   "metadata": {},
   "outputs": [
    {
     "data": {
      "text/html": [
       "<div>\n",
       "<style scoped>\n",
       "    .dataframe tbody tr th:only-of-type {\n",
       "        vertical-align: middle;\n",
       "    }\n",
       "\n",
       "    .dataframe tbody tr th {\n",
       "        vertical-align: top;\n",
       "    }\n",
       "\n",
       "    .dataframe thead th {\n",
       "        text-align: right;\n",
       "    }\n",
       "</style>\n",
       "<table border=\"1\" class=\"dataframe\">\n",
       "  <thead>\n",
       "    <tr style=\"text-align: right;\">\n",
       "      <th></th>\n",
       "      <th>PassengerId</th>\n",
       "      <th>Pclass</th>\n",
       "      <th>Name</th>\n",
       "      <th>Sex</th>\n",
       "      <th>Age</th>\n",
       "      <th>SibSp</th>\n",
       "      <th>Parch</th>\n",
       "      <th>Ticket</th>\n",
       "      <th>Fare</th>\n",
       "      <th>Cabin</th>\n",
       "      <th>Embarked</th>\n",
       "    </tr>\n",
       "  </thead>\n",
       "  <tbody>\n",
       "    <tr>\n",
       "      <th>0</th>\n",
       "      <td>1</td>\n",
       "      <td>3</td>\n",
       "      <td>Braund, Mr. Owen Harris</td>\n",
       "      <td>male</td>\n",
       "      <td>22.0</td>\n",
       "      <td>1</td>\n",
       "      <td>0</td>\n",
       "      <td>A/5 21171</td>\n",
       "      <td>7.2500</td>\n",
       "      <td>NaN</td>\n",
       "      <td>S</td>\n",
       "    </tr>\n",
       "    <tr>\n",
       "      <th>1</th>\n",
       "      <td>2</td>\n",
       "      <td>1</td>\n",
       "      <td>Cumings, Mrs. John Bradley (Florence Briggs Th...</td>\n",
       "      <td>female</td>\n",
       "      <td>38.0</td>\n",
       "      <td>1</td>\n",
       "      <td>0</td>\n",
       "      <td>PC 17599</td>\n",
       "      <td>71.2833</td>\n",
       "      <td>C85</td>\n",
       "      <td>C</td>\n",
       "    </tr>\n",
       "    <tr>\n",
       "      <th>2</th>\n",
       "      <td>3</td>\n",
       "      <td>3</td>\n",
       "      <td>Heikkinen, Miss. Laina</td>\n",
       "      <td>female</td>\n",
       "      <td>26.0</td>\n",
       "      <td>0</td>\n",
       "      <td>0</td>\n",
       "      <td>STON/O2. 3101282</td>\n",
       "      <td>7.9250</td>\n",
       "      <td>NaN</td>\n",
       "      <td>S</td>\n",
       "    </tr>\n",
       "    <tr>\n",
       "      <th>3</th>\n",
       "      <td>4</td>\n",
       "      <td>1</td>\n",
       "      <td>Futrelle, Mrs. Jacques Heath (Lily May Peel)</td>\n",
       "      <td>female</td>\n",
       "      <td>35.0</td>\n",
       "      <td>1</td>\n",
       "      <td>0</td>\n",
       "      <td>113803</td>\n",
       "      <td>53.1000</td>\n",
       "      <td>C123</td>\n",
       "      <td>S</td>\n",
       "    </tr>\n",
       "    <tr>\n",
       "      <th>4</th>\n",
       "      <td>5</td>\n",
       "      <td>3</td>\n",
       "      <td>Allen, Mr. William Henry</td>\n",
       "      <td>male</td>\n",
       "      <td>35.0</td>\n",
       "      <td>0</td>\n",
       "      <td>0</td>\n",
       "      <td>373450</td>\n",
       "      <td>8.0500</td>\n",
       "      <td>NaN</td>\n",
       "      <td>S</td>\n",
       "    </tr>\n",
       "  </tbody>\n",
       "</table>\n",
       "</div>"
      ],
      "text/plain": [
       "   PassengerId  Pclass                                               Name  \\\n",
       "0            1       3                            Braund, Mr. Owen Harris   \n",
       "1            2       1  Cumings, Mrs. John Bradley (Florence Briggs Th...   \n",
       "2            3       3                             Heikkinen, Miss. Laina   \n",
       "3            4       1       Futrelle, Mrs. Jacques Heath (Lily May Peel)   \n",
       "4            5       3                           Allen, Mr. William Henry   \n",
       "\n",
       "      Sex   Age  SibSp  Parch            Ticket     Fare Cabin Embarked  \n",
       "0    male  22.0      1      0         A/5 21171   7.2500   NaN        S  \n",
       "1  female  38.0      1      0          PC 17599  71.2833   C85        C  \n",
       "2  female  26.0      0      0  STON/O2. 3101282   7.9250   NaN        S  \n",
       "3  female  35.0      1      0            113803  53.1000  C123        S  \n",
       "4    male  35.0      0      0            373450   8.0500   NaN        S  "
      ]
     },
     "metadata": {},
     "output_type": "display_data"
    }
   ],
   "source": [
    "outcomes = df['Survived']\n",
    "data = df.drop('Survived', axis = 1)\n",
    "display(data.head())"
   ]
  },
  {
   "cell_type": "code",
   "execution_count": 12,
   "id": "20c36085-4346-4be5-bea5-95e4f21f9262",
   "metadata": {},
   "outputs": [
    {
     "name": "stdout",
     "output_type": "stream",
     "text": [
      "Accuracy is 60.0\n"
     ]
    }
   ],
   "source": [
    "# accuracy score function\n",
    "def accuracy(par1, par2):\n",
    "    if len(par1)==len(par2):\n",
    "        return f\"Accuracy is {(par1).mean()*100}\"\n",
    "    else:\n",
    "        return \"Number of predictions does not match the outcome\"\n",
    "    \n",
    "predictions = pd.Series(np.ones(5, dtype = int))\n",
    "print(accuracy(outcomes[:5], predictions))"
   ]
  },
  {
   "cell_type": "code",
   "execution_count": 25,
   "id": "3550e808-2434-48a7-82ad-51b1d2f53e6a",
   "metadata": {},
   "outputs": [
    {
     "name": "stdout",
     "output_type": "stream",
     "text": [
      "Predictions have an accuracy of 60.00%.\n"
     ]
    }
   ],
   "source": [
    "def accuracy(truth, pred):\n",
    "    \"\"\" Returns accuracy score for input truth and predictions. \"\"\"\n",
    "    \n",
    "    # Ensure that the number of predictions matches number of outcomes\n",
    "    if len(truth) == len(pred): \n",
    "        \n",
    "        # Calculate and return the accuracy as a percent\n",
    "        return \"Predictions have an accuracy of {:.2f}%.\".format((truth == pred).mean()*100)\n",
    "    \n",
    "    else:\n",
    "        return \"Number of predictions does not match number of outcomes!\"\n",
    "    \n",
    "# Test the 'accuracy_score' function\n",
    "predictions = pd.Series(np.ones(5, dtype = int))\n",
    "print(accuracy(outcomes[:5], predictions))\n",
    "    "
   ]
  },
  {
   "cell_type": "code",
   "execution_count": 33,
   "id": "0cc99708-3685-4605-9015-2d8fd995c91f",
   "metadata": {},
   "outputs": [
    {
     "name": "stdout",
     "output_type": "stream",
     "text": [
      "Predictions have an accuracy of 61.62%.\n"
     ]
    }
   ],
   "source": [
    "# How accurate would a prediction be that none of the passangers survived?\n",
    "\n",
    "def predictions_0(data):\n",
    "    \"\"\" Model with no features. Always predicts a passenger did not survive. \"\"\"\n",
    "\n",
    "    predictions = []\n",
    "    for _, passenger in data.iterrows():\n",
    "        \n",
    "        # Predict the survival of 'passenger'\n",
    "        predictions.append(0)\n",
    "    \n",
    "    # Return our predictions\n",
    "    return pd.Series(predictions)\n",
    "\n",
    "# Make the predictions\n",
    "predictions = predictions_0(data)\n",
    "print(accuracy(outcomes, predictions))"
   ]
  },
  {
   "cell_type": "code",
   "execution_count": 36,
   "id": "1f2852ee-ae6f-4625-8531-9b9065946314",
   "metadata": {},
   "outputs": [
    {
     "name": "stdout",
     "output_type": "stream",
     "text": [
      "Predictions have an accuracy of 78.68%.\n"
     ]
    }
   ],
   "source": [
    "def predictions_1(data):\n",
    "    \n",
    "    predictions = []\n",
    "    for _, passenger in data.iterrows():\n",
    "        if passenger['Sex'] =='female':\n",
    "            predictions.append(1)\n",
    "        else:\n",
    "            predictions.append(0)\n",
    "    return pd.Series(predictions)\n",
    "predictions = predictions_1(data)\n",
    "print(accuracy(outcomes, predictions))"
   ]
  },
  {
   "cell_type": "code",
   "execution_count": 20,
   "id": "5b497362-1eb2-4fae-9cdd-d0ce8eecd5be",
   "metadata": {},
   "outputs": [
    {
     "name": "stdout",
     "output_type": "stream",
     "text": [
      "Number of predictions does not match the outcome\n"
     ]
    }
   ],
   "source": [
    "# How accurate would a prediction be that all female passengers \n",
    "#survived and remaining did not?\n",
    "print(accuracy(outcomes, predictions))"
   ]
  },
  {
   "cell_type": "code",
   "execution_count": 37,
   "id": "94ccc7a1-df4e-4662-9daa-c2d8bbc8a957",
   "metadata": {},
   "outputs": [
    {
     "name": "stdout",
     "output_type": "stream",
     "text": [
      "Predictions have an accuracy of 78.68%.\n"
     ]
    }
   ],
   "source": [
    "def predictions_2(data):\n",
    "    \n",
    "    predictions = []\n",
    "    for _, passenger in data.iterrows():\n",
    "        if passenger['Sex'] =='female':\n",
    "            predictions.append(1)\n",
    "        elif passenger['Sex']=='male' and passenger['Age']<= 10:\n",
    "            predictions.append(1)\n",
    "        else:\n",
    "            predictions.append(0)\n",
    "    return pd.Series(predictions)\n",
    "predictions = predictions_1(data)\n",
    "print(accuracy(outcomes, predictions))"
   ]
  },
  {
   "cell_type": "code",
   "execution_count": 58,
   "id": "7c73750b-a026-4568-8853-4ede387165e2",
   "metadata": {},
   "outputs": [
    {
     "name": "stdout",
     "output_type": "stream",
     "text": [
      "Predictions have an accuracy of 78.68%.\n"
     ]
    }
   ],
   "source": [
    "def predictions_3(data):\n",
    "    \n",
    "    predictions = []\n",
    "    for _, passenger in data.iterrows():\n",
    "        if passenger['Sex'] =='female' and passenger['Parch']>0 or passenger['Age'] < 10 or passenger['Pclass'] <= 2:\n",
    "            predictions.append(1)       \n",
    "        else:\n",
    "            predictions.append(0)\n",
    "    return pd.Series(predictions)\n",
    "predictions = predictions_1(data)\n",
    "print(accuracy(outcomes, predictions))"
   ]
  },
  {
   "cell_type": "code",
   "execution_count": 50,
   "id": "509b015e-2d47-45fd-ab73-8f3f3fa186cf",
   "metadata": {},
   "outputs": [],
   "source": [
    "import seaborn as sns\n",
    "df['Survived'] = df['Survived'].astype(int)\n",
    "df['Pclass'] = df['Pclass'].astype(int)"
   ]
  },
  {
   "cell_type": "code",
   "execution_count": 53,
   "id": "7f006257-b664-4724-bbbc-f008b3ab8df4",
   "metadata": {},
   "outputs": [
    {
     "data": {
      "image/png": "[encoded data removed]",
      "text/plain": [
       "<Figure size 360x360 with 1 Axes>"
      ]
     },
     "metadata": {
      "needs_background": "light"
     },
     "output_type": "display_data"
    }
   ],
   "source": [
    "sns.catplot(x='Survived', y='Pclass', kind = 'bar', data=df)\n",
    "plt.xlabel('1 = Survived')\n",
    "plt.ylabel('Pclass')\n",
    "plt.title('Survival vs Pclass')\n",
    "plt.show()"
   ]
  },
  {
   "cell_type": "raw",
   "id": "8bd07577-7b50-47c3-88da-1da9f6c38580",
   "metadata": {},
   "source": []
  },
  {
   "cell_type": "code",
   "execution_count": 57,
   "id": "bf6477df-4e14-40e3-ab02-b9d4e6b39d7a",
   "metadata": {},
   "outputs": [
    {
     "data": {
      "image/png": "[encoded data removed]",
      "text/plain": [
       "<Figure size 360x360 with 1 Axes>"
      ]
     },
     "metadata": {
      "needs_background": "light"
     },
     "output_type": "display_data"
    }
   ],
   "source": [
    "sns.catplot(x='Survived', y='Parch', kind = 'bar', data=df)\n",
    "plt.xlabel('1 = Survived')\n",
    "plt.ylabel('Parch')\n",
    "plt.title('Survival vs Parch')\n",
    "plt.show()"
   ]
  },
  {
   "cell_type": "code",
   "execution_count": null,
   "id": "f9a4145a-2053-40d6-b63a-10606d4ed67e",
   "metadata": {},
   "outputs": [],
   "source": [
    "# Think of a real-world scenario where supervised learning could be applied. \n",
    "# What would be the outcome variable that you are trying to predict? \n",
    "# Name two features about the data used in this scenario that might be helpful for making the predictions.\n",
    "\n",
    "# Predicting house prices on the market. The outcome variables are the prices.\n",
    "# House size and location are the two variables that will be helpful in prediction."
   ]
  }
 ],
 "metadata": {
  "kernelspec": {
   "display_name": "Python 3",
   "language": "python",
   "name": "python3"
  },
  "language_info": {
   "codemirror_mode": {
    "name": "ipython",
    "version": 3
   },
   "file_extension": ".py",
   "mimetype": "text/x-python",
   "name": "python",
   "nbconvert_exporter": "python",
   "pygments_lexer": "ipython3",
   "version": "3.8.5"
  }
 },
 "nbformat": 4,
 "nbformat_minor": 5
}
